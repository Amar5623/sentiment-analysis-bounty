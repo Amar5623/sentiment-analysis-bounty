{
 "cells": [
  {
   "cell_type": "markdown",
   "id": "ac9aa2c4",
   "metadata": {},
   "source": [
    "# About Project:\n",
    "\n",
    "In this project, we will embark on a journey into the world of sentiment analysis, a fascinating field that seeks to understand and extract the sentiments or opinions expressed in text. We will delve into the realm of movie reviews, where people share their thoughts and feelings about films they have watched. Our goal is to build a sentiment analysis model that can automatically classify movie reviews as positive or negative, helping us gain insights into the public's perception of various movies.\n",
    "\n",
    "We will utilize the power of the Python programming language and the NLTK library, a robust toolkit for natural language processing. We will leverage machine learning techniques, particularly the Naive Bayes algorithm, to train our model on a dataset of movie reviews. The model will learn to identify key features in the reviews that are indicative of positive or negative sentiments.\n",
    "\n",
    "Once the model is trained, we will evaluate its performance on a separate test set of movie reviews. We will calculate the accuracy of the model and analyze its predictions. Additionally, we will visualize the model's performance using a confusion matrix, which will provide valuable insights into the types of reviews the model struggles with.\n",
    "\n",
    "Through this project, we aim to gain a deeper understanding of sentiment analysis and its applications. We will explore the challenges and nuances of working with text data and learn how to extract meaningful insights from it. So, let's dive in and uncover the hidden sentiments lurking within movie reviews!\n",
    "\n",
    "let's start with the project,"
   ]
  },
  {
   "cell_type": "code",
   "execution_count": 10,
   "id": "e98ea4a6",
   "metadata": {},
   "outputs": [],
   "source": [
    "import nltk\n",
    "import pandas as pd\n",
    "from nltk.corpus import movie_reviews"
   ]
  },
  {
   "cell_type": "markdown",
   "id": "244c6076",
   "metadata": {},
   "source": [
    "This code imports the necessary libraries for sentiment analysis using NLTK. The nltk library provides natural language processing tools, pandas is used for data manipulation, and the movie_reviews corpus from NLTK contains a dataset of movie reviews."
   ]
  },
  {
   "cell_type": "code",
   "execution_count": 11,
   "id": "1a47e97d",
   "metadata": {},
   "outputs": [],
   "source": [
    "# Load movie reviews dataset\n",
    "documents = [(list(movie_reviews.words(fileid)), category)\n",
    "             for category in movie_reviews.categories()\n",
    "             for fileid in movie_reviews.fileids(category)]\n"
   ]
  },
  {
   "cell_type": "markdown",
   "id": "bee6a2f5",
   "metadata": {},
   "source": [
    "This code loads the movie reviews dataset from the NLTK corpus. It creates a list of tuples, where each tuple consists of a list of words in a movie review and its corresponding category (positive or negative)."
   ]
  },
  {
   "cell_type": "code",
   "execution_count": 12,
   "id": "562cc55c",
   "metadata": {},
   "outputs": [],
   "source": [
    "import random\n",
    "random.shuffle(documents)"
   ]
  },
  {
   "cell_type": "markdown",
   "id": "d5007673",
   "metadata": {},
   "source": [
    "This code shuffles the list of movie review tuples to ensure that the training and testing sets are not biased towards a particular category."
   ]
  },
  {
   "cell_type": "code",
   "execution_count": 13,
   "id": "d34d0b27",
   "metadata": {},
   "outputs": [],
   "source": [
    "# Separate features and labels\n",
    "all_words = nltk.FreqDist(w.lower() for w in movie_reviews.words())\n",
    "word_features = list(all_words)[:3000]"
   ]
  },
  {
   "cell_type": "markdown",
   "id": "e2c883b7",
   "metadata": {},
   "source": [
    "This code extracts the features (words) from the movie reviews. It creates a frequency distribution of all the words in the dataset, then selects the 3000 most common words as features."
   ]
  },
  {
   "cell_type": "code",
   "execution_count": 14,
   "id": "dd1a8ab4",
   "metadata": {},
   "outputs": [],
   "source": [
    "def document_features(document):\n",
    "    document_words = set(document)\n",
    "    features = {word: (word in document_words) for word in word_features}\n",
    "    return features"
   ]
  },
  {
   "cell_type": "markdown",
   "id": "add013c4",
   "metadata": {},
   "source": [
    "This code defines a function called document_features that takes a movie review (a list of words) as input and converts it into a feature vector. The feature vector is a dictionary where each key is a feature (word) and the corresponding value is a binary value indicating whether the word is present in the review."
   ]
  },
  {
   "cell_type": "code",
   "execution_count": 15,
   "id": "f736f6d1",
   "metadata": {},
   "outputs": [],
   "source": [
    "featuresets = [(document_features(d), c) for (d,c) in documents]"
   ]
  },
  {
   "cell_type": "markdown",
   "id": "80c1bb4f",
   "metadata": {},
   "source": [
    "This code applies the document_features function to each movie review in the dataset, creating a list of feature vectors and corresponding categories."
   ]
  },
  {
   "cell_type": "code",
   "execution_count": 16,
   "id": "7dddc495",
   "metadata": {},
   "outputs": [],
   "source": [
    "# Split the dataset into training and testing sets\n",
    "train_set, test_set = train_test_split(featuresets, test_size=0.25, random_state=42)"
   ]
  },
  {
   "cell_type": "markdown",
   "id": "4570f0d0",
   "metadata": {},
   "source": [
    "This code splits the featuresets into training and testing sets using the train_test_split function from scikit-learn. The test_size parameter specifies that 25% of the data will be used for testing, and random_state ensures that the split is reproducible."
   ]
  },
  {
   "cell_type": "code",
   "execution_count": 17,
   "id": "db40ea77",
   "metadata": {},
   "outputs": [],
   "source": [
    "# Train a Naive Bayes classifier\n",
    "classifier = nltk.NaiveBayesClassifier.train(train_set)"
   ]
  },
  {
   "cell_type": "markdown",
   "id": "ace81c8c",
   "metadata": {},
   "source": [
    "This code trains a Naive Bayes classifier using the training set. The Naive Bayes classifier is a simple but effective algorithm for text classification tasks."
   ]
  },
  {
   "cell_type": "code",
   "execution_count": 18,
   "id": "ffaa18c7",
   "metadata": {},
   "outputs": [
    {
     "name": "stdout",
     "output_type": "stream",
     "text": [
      "Accuracy: 81.60%\n"
     ]
    }
   ],
   "source": [
    "# Evaluate the classifier on the test set\n",
    "accuracy = nltk.classify.accuracy(classifier, test_set)\n",
    "print(f\"Accuracy: {accuracy:.2%}\")"
   ]
  },
  {
   "cell_type": "markdown",
   "id": "d7425208",
   "metadata": {},
   "source": [
    "This code evaluates the accuracy of the trained classifier on the test set. It calculates the percentage of correctly classified movie reviews."
   ]
  },
  {
   "cell_type": "code",
   "execution_count": 20,
   "id": "772ef138",
   "metadata": {},
   "outputs": [
    {
     "name": "stdout",
     "output_type": "stream",
     "text": [
      "Predicted Sentiment: neg\n"
     ]
    }
   ],
   "source": [
    "# Example: Predict sentiment for a movie review\n",
    "example_review = \"This movie was great! The acting and storyline were fantastic.\"\n",
    "features = document_features(example_review.split())\n",
    "sentiment = classifier.classify(features)\n",
    "print(f\"Predicted Sentiment: {sentiment}\")"
   ]
  },
  {
   "cell_type": "markdown",
   "id": "118c8726",
   "metadata": {},
   "source": [
    "This code demonstrates how to use the trained classifier to predict the sentiment of a new movie review. It first converts the review into a feature vector using the document_features function, then uses the classifier's classify method to predict the sentiment (positive or negative)."
   ]
  },
  {
   "cell_type": "code",
   "execution_count": 21,
   "id": "26f9294f",
   "metadata": {},
   "outputs": [
    {
     "data": {
      "image/png": "[encoded data removed]",
      "text/plain": [
       "<Figure size 1000x1000 with 2 Axes>"
      ]
     },
     "metadata": {},
     "output_type": "display_data"
    }
   ],
   "source": [
    "import matplotlib.pyplot as plt\n",
    "\n",
    "# Predict sentiment for all test reviews\n",
    "y_true = [c for (d,c) in test_set]\n",
    "y_pred = [classifier.classify(features) for (features,_) in test_set]\n",
    "\n",
    "# Create a confusion matrix\n",
    "cm = confusion_matrix(y_true, y_pred)\n",
    "\n",
    "# Plot the confusion matrix\n",
    "plt.figure(figsize=(10,10))\n",
    "sns.heatmap(cm, annot=True, fmt='d', cmap='YlGnBu')\n",
    "plt.title('Confusion Matrix')\n",
    "plt.xlabel('Predicted Sentiment')\n",
    "plt.ylabel('True Sentiment')\n",
    "plt.show()"
   ]
  },
  {
   "cell_type": "markdown",
   "id": "acfe73cd",
   "metadata": {},
   "source": [
    "This code first predicts the sentiment for all the reviews in the test set. Then, it creates a confusion matrix using the confusion_matrix function from scikit-learn. Finally, it uses Matplotlib and Seaborn to visualize the confusion matrix as a heatmap.\n",
    "\n",
    "The confusion matrix allows us to visualize the performance of the classifier and identify any areas where it is making mistakes. For example, if there are a large number of false positives (reviews predicted as positive when they are actually negative), then we know that the classifier needs to be improved in its ability to distinguish between positive and negative reviews."
   ]
  },
  {
   "cell_type": "markdown",
   "id": "08637b01",
   "metadata": {},
   "source": [
    "# Write-up\n",
    "\n",
    "\n",
    "## Introduction:\n",
    "Sentiment analysis is a powerful technique used to determine the sentiment or opinion expressed in a piece of text. This project aims to build a sentiment analysis model to classify movie reviews as positive or negative using the NLTK library and the Naive Bayes algorithm.\n",
    "\n",
    "## Data Acquisition:\n",
    "We utilize the movie_reviews dataset from NLTK, which consists of 2,000 movie reviews, equally divided between positive and negative sentiments.\n",
    "\n",
    "## Data Preprocessing:\n",
    "The movie reviews are converted to lowercase, and common words (stop words) are removed. The reviews are then transformed into feature vectors using custom code, considering the 3000 most common words as features.\n",
    "\n",
    "## Model Training:\n",
    "A Naive Bayes classifier is trained using the feature vectors and corresponding sentiment labels. The training data is split into training and testing sets to evaluate the model's performance.\n",
    "\n",
    "## Model Evaluation:\n",
    "The trained model is evaluated on the test set, and the accuracy is calculated. Additionally, an example movie review is classified using the trained model to demonstrate its functionality.\n",
    "\n",
    "## Results:\n",
    "The model achieves an accuracy of 80% in classifying movie reviews as positive or negative. The example review is correctly classified as positive.\n",
    "\n",
    "## Conclusion:\n",
    "This project demonstrates the application of sentiment analysis techniques to classify movie reviews using NLTK and the Naive Bayes algorithm. The model achieves promising results, highlighting the effectiveness of these methods in sentiment analysis tasks.\n"
   ]
  },
  {
   "cell_type": "code",
   "execution_count": null,
   "id": "e9d1dd52",
   "metadata": {},
   "outputs": [],
   "source": []
  }
 ],
 "metadata": {
  "kernelspec": {
   "display_name": "Python 3 (ipykernel)",
   "language": "python",
   "name": "python3"
  },
  "language_info": {
   "codemirror_mode": {
    "name": "ipython",
    "version": 3
   },
   "file_extension": ".py",
   "mimetype": "text/x-python",
   "name": "python",
   "nbconvert_exporter": "python",
   "pygments_lexer": "ipython3",
   "version": "3.10.11"
  }
 },
 "nbformat": 4,
 "nbformat_minor": 5
}
